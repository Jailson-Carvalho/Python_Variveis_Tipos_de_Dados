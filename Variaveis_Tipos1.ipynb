{
  "nbformat": 4,
  "nbformat_minor": 0,
  "metadata": {
    "colab": {
      "provenance": [],
      "toc_visible": true
    },
    "kernelspec": {
      "name": "python3",
      "display_name": "Python 3"
    },
    "language_info": {
      "name": "python"
    }
  },
  "cells": [
    {
      "cell_type": "markdown",
      "source": [
        "---\n",
        "\n",
        "# **Módulo 01** | Python: Variáveis & Tipos de Dados\n",
        "Caderno de **Aula**<br>\n",
        "Professor [Jailson Carvalho](https://www.linkedin.com/in/jailson-carvalhos/)\n",
        "\n",
        "---"
      ],
      "metadata": {
        "id": "vcPCWgPbMcrc"
      }
    },
    {
      "cell_type": "markdown",
      "source": [
        "# **Tópicos**\n",
        "\n",
        "<ol type=\"1\">\n",
        "  <li>Introdução ao Google Colab;</li>\n",
        "  <li>Variáveis;</li>\n",
        "  <li>Números;</li>\n",
        "  <li><i>Strings;</i></li>\n",
        "  <li>Boleanos.</li>\n",
        "</ol>\n",
        "\n",
        "\n"
      ],
      "metadata": {
        "id": "Z1e44rosMObu"
      }
    },
    {
      "cell_type": "markdown",
      "source": [
        "## 2\\. Variáveis"
      ],
      "metadata": {
        "id": "d2HM4hoUNxGA"
      }
    },
    {
      "cell_type": "markdown",
      "source": [
        "### **2.1. Definição**"
      ],
      "metadata": {
        "id": "r4gbUzCCN9wL"
      }
    },
    {
      "cell_type": "markdown",
      "source": [
        "Mecanismo de armazenamento volátil de dados, ou seja, dados salvos em pedacinhos da memória RAM do sistema computacional em uso (notebook, mobile, console de vídeo game, smartwatch, etc.)."
      ],
      "metadata": {
        "id": "r0BbixFdOFZL"
      }
    },
    {
      "cell_type": "code",
      "execution_count": null,
      "metadata": {
        "colab": {
          "base_uri": "https://localhost:8080/"
        },
        "id": "XXczAF8-Kw42",
        "outputId": "62a81548-ab8e-44d5-fc40-7d7f28b39146"
      },
      "outputs": [
        {
          "output_type": "stream",
          "name": "stdout",
          "text": [
            "33\n",
            "Jailson Carvalho\n"
          ]
        }
      ],
      "source": [
        "idade = 33\n",
        "print(idade)\n",
        "\n",
        "nome = 'Jailson Carvalho'\n",
        "print(nome)"
      ]
    },
    {
      "cell_type": "markdown",
      "source": [
        "**2.2. Tipos nativos**"
      ],
      "metadata": {
        "id": "m4UxmfANOaBE"
      }
    },
    {
      "cell_type": "markdown",
      "source": [
        "**Tipos numéricos:** inteiros (`int`) e decimais (`float`):"
      ],
      "metadata": {
        "id": "u58d5w_BOqjR"
      }
    },
    {
      "cell_type": "code",
      "source": [
        "preco = 1000\n",
        "tipo_preco = type(preco)\n",
        "\n",
        "print(preco)\n",
        "print(tipo_preco)"
      ],
      "metadata": {
        "id": "fEMmlSAjOdtn",
        "colab": {
          "base_uri": "https://localhost:8080/"
        },
        "outputId": "e397e809-9458-4033-f87b-4dc847e3c173"
      },
      "execution_count": null,
      "outputs": [
        {
          "output_type": "stream",
          "name": "stdout",
          "text": [
            "1000\n",
            "<class 'int'>\n"
          ]
        }
      ]
    },
    {
      "cell_type": "code",
      "source": [
        "preco = 0.05\n",
        "tipo_preco = type(preco)\n",
        "\n",
        "print(preco)\n",
        "print(tipo_preco)"
      ],
      "metadata": {
        "colab": {
          "base_uri": "https://localhost:8080/"
        },
        "id": "PqULIURMSMbx",
        "outputId": "96b43792-ebf7-46d8-b23e-e8b4afeec9fb"
      },
      "execution_count": null,
      "outputs": [
        {
          "output_type": "stream",
          "name": "stdout",
          "text": [
            "0.05\n",
            "<class 'float'>\n"
          ]
        }
      ]
    },
    {
      "cell_type": "markdown",
      "source": [
        "**Tipos de texto:** *strings* (`str`):"
      ],
      "metadata": {
        "id": "xReDBWJ4ScC0"
      }
    },
    {
      "cell_type": "code",
      "source": [
        "primeiro_nome = 'Jailson Carvalho'\n",
        "tipo_nome = type(primeiro_nome)\n",
        "\n",
        "print(primeiro_nome)\n",
        "print(tipo_nome)"
      ],
      "metadata": {
        "colab": {
          "base_uri": "https://localhost:8080/"
        },
        "id": "sIbeFY8QSi30",
        "outputId": "e1cdee7c-e7df-418a-e8c8-e479a5ba7e01"
      },
      "execution_count": null,
      "outputs": [
        {
          "output_type": "stream",
          "name": "stdout",
          "text": [
            "Jailson Carvalho\n",
            "<class 'str'>\n"
          ]
        }
      ]
    },
    {
      "cell_type": "code",
      "source": [
        "pais = 'Brasil'\n",
        "\n",
        "print(pais)\n",
        "print(type(pais))"
      ],
      "metadata": {
        "colab": {
          "base_uri": "https://localhost:8080/"
        },
        "id": "scww2KMBTJJk",
        "outputId": "4d281e07-0447-41f2-bce8-f756a4a064b8"
      },
      "execution_count": null,
      "outputs": [
        {
          "output_type": "stream",
          "name": "stdout",
          "text": [
            "Brasil\n",
            "<class 'str'>\n"
          ]
        }
      ]
    },
    {
      "cell_type": "markdown",
      "source": [
        "**Tipos lógicos:** booleanos (`bool`):"
      ],
      "metadata": {
        "id": "foLVnzbZTeRr"
      }
    },
    {
      "cell_type": "code",
      "source": [
        "usuario_maior_de_idade = False\n",
        "print(type(usuario_maior_de_idade))"
      ],
      "metadata": {
        "colab": {
          "base_uri": "https://localhost:8080/"
        },
        "id": "x6tyiyDDTfw1",
        "outputId": "68f268bb-ead7-4b19-eda4-4859feac3f80"
      },
      "execution_count": null,
      "outputs": [
        {
          "output_type": "stream",
          "name": "stdout",
          "text": [
            "<class 'bool'>\n"
          ]
        }
      ]
    },
    {
      "cell_type": "markdown",
      "source": [
        "**Tipo Vazio:** (`None`):"
      ],
      "metadata": {
        "id": "Y4JuhtUbT7CA"
      }
    },
    {
      "cell_type": "code",
      "source": [
        "telefone_fixo = None\n",
        "print(type(telefone_fixo))"
      ],
      "metadata": {
        "id": "G_MOVt1dUGzK",
        "outputId": "dbff4f45-58a6-450e-8315-3d2d79226ecf",
        "colab": {
          "base_uri": "https://localhost:8080/"
        }
      },
      "execution_count": null,
      "outputs": [
        {
          "output_type": "stream",
          "name": "stdout",
          "text": [
            "<class 'NoneType'>\n"
          ]
        }
      ]
    },
    {
      "cell_type": "markdown",
      "source": [
        "## 3\\. Números"
      ],
      "metadata": {
        "id": "ttMC7DRrq5FS"
      }
    },
    {
      "cell_type": "markdown",
      "source": [
        "### **3.1. Motivação**"
      ],
      "metadata": {
        "id": "hmSpQdh9q6VO"
      }
    },
    {
      "cell_type": "markdown",
      "source": [
        "Você precisa calcular o **ticket médio** diário `tkt` do seu restaurante. A métrica é calculada pela soma do valor das vendas `svv` de um mesmo dia dividido pela quantidade de vendas `sqv`, também de um mesmo dia.\n"
      ],
      "metadata": {
        "id": "NmCiGqtyrI-k"
      }
    },
    {
      "cell_type": "markdown",
      "source": [
        "$tkt = svv / sqv$"
      ],
      "metadata": {
        "id": "sj3-yIo7rYXu"
      }
    },
    {
      "cell_type": "markdown",
      "source": [
        "Esta é a sua planilha:"
      ],
      "metadata": {
        "id": "30PghAT0rbOD"
      }
    },
    {
      "cell_type": "markdown",
      "source": [
        "| Dia   | Valor Total Vendas | Qtd Total Vendas | Ticket Medio |\n",
        "|-------|--------------------|------------------|-|\n",
        "| 19/01 | 153.98             | 3                |?|\n",
        "| 20/01 | 337.01             | 7                |?|\n",
        "| 23/01 | 295.33             | 5                |?|"
      ],
      "metadata": {
        "id": "eQrueznGre-M"
      }
    },
    {
      "cell_type": "markdown",
      "source": [
        "Como podemos fazer este cálculo usando o Python?"
      ],
      "metadata": {
        "id": "ZZKks9JFrtHB"
      }
    },
    {
      "cell_type": "markdown",
      "source": [
        "### **3.2. Definição**"
      ],
      "metadata": {
        "id": "wEVyZWXYrwcc"
      }
    },
    {
      "cell_type": "markdown",
      "source": [
        "Armazenam **valores numéricos**:\n",
        "\n",
        "*   `10, 37, 500` (inteiros);\n",
        "*   `0.333, 10.1` (decimais);\n",
        "*   `1 + 2j` (complexos).\n"
      ],
      "metadata": {
        "id": "pjAAT_YZr0TO"
      }
    },
    {
      "cell_type": "markdown",
      "source": [
        "São dos tipos:\n",
        "\n",
        "*   `int` (inteiros);\n",
        "*   `float` (decimais);\n",
        "*   `complex` (complexos).\n"
      ],
      "metadata": {
        "id": "JtfyfNnur59B"
      }
    },
    {
      "cell_type": "code",
      "source": [
        "print(type(37))\n",
        "print(type(10.1))\n",
        "print(type(1 + 2j))\n"
      ],
      "metadata": {
        "colab": {
          "base_uri": "https://localhost:8080/"
        },
        "id": "sHs_VCnpq517",
        "outputId": "bd541959-75c1-4f11-fd26-88c4b0d0bd97"
      },
      "execution_count": null,
      "outputs": [
        {
          "output_type": "stream",
          "name": "stdout",
          "text": [
            "<class 'int'>\n",
            "<class 'float'>\n",
            "<class 'complex'>\n"
          ]
        }
      ]
    },
    {
      "cell_type": "markdown",
      "source": [
        "### **3.3. Operações**"
      ],
      "metadata": {
        "id": "e9w3ncDZr9jZ"
      }
    },
    {
      "cell_type": "markdown",
      "source": [
        "As operações dos tipos numéricos são as quatro operações matemáticas fundamentais:\n",
        "\n",
        "*   `+` (soma);\n",
        "*   `-` (subtração);\n",
        "*   `*` (multiplicação);\n",
        "*   `/` (divisão).\n",
        "\n",
        "Além de operações mais avançadas:\n",
        "\n",
        "*   `//` (divisão inteira)\n",
        "*   `**` (potência ou exponenciação);\n",
        "*   `%` (resto de divisão)."
      ],
      "metadata": {
        "id": "F0vYIlnYsCQ7"
      }
    },
    {
      "cell_type": "markdown",
      "source": [
        "**Exemplo**: Carrinho de compra de um *e-commerce*."
      ],
      "metadata": {
        "id": "eZ7-o6HxsKGX"
      }
    },
    {
      "cell_type": "code",
      "source": [
        "# o carrinho começa com o valor 0\n",
        "qtd_itens_carrinho_compra = 0\n",
        "\n",
        "# incrementar, somar + 1.\n",
        "# repete a variável (qtd_itens_carrinho_compra), e atribui a mesma variavel somando + 1 (qtd_itens_carrinho_compra + 1).\n",
        "qtd_itens_carrinho_compra = qtd_itens_carrinho_compra + 1\n",
        "\n",
        "# imprimir na tela\n",
        "print(qtd_itens_carrinho_compra)\n",
        "\n",
        "# caso o cliente compre mais itens, repete o processo.\n",
        "qtd_itens_carrinho_compra = qtd_itens_carrinho_compra + 1\n",
        "print(qtd_itens_carrinho_compra)\n",
        "\n",
        "# caso o cliente retire um iten do carrinho, atribuir o sinal de subtração.\n",
        "qtd_itens_carrinho_compra = qtd_itens_carrinho_compra - 1\n",
        "print(qtd_itens_carrinho_compra)"
      ],
      "metadata": {
        "colab": {
          "base_uri": "https://localhost:8080/"
        },
        "id": "K4LpgFU9r8uX",
        "outputId": "5c8f9248-20e6-4d2f-d760-33e57530c312"
      },
      "execution_count": null,
      "outputs": [
        {
          "output_type": "stream",
          "name": "stdout",
          "text": [
            "1\n",
            "2\n",
            "1\n"
          ]
        }
      ]
    },
    {
      "cell_type": "markdown",
      "source": [
        "**Uma outra forma de chegar ao mesmo resultado**"
      ],
      "metadata": {
        "id": "-s4_6k_rvlg0"
      }
    },
    {
      "cell_type": "code",
      "source": [
        "qtd_items_carrinho_compra = 0\n",
        "\n",
        "qtd_items_carrinho_compra += 1\n",
        "print(qtd_items_carrinho_compra)\n",
        "\n",
        "qtd_items_carrinho_compra += 1\n",
        "print(qtd_items_carrinho_compra)"
      ],
      "metadata": {
        "colab": {
          "base_uri": "https://localhost:8080/"
        },
        "id": "D20oykITvr_D",
        "outputId": "b815e291-646a-47aa-b80b-510731c56fca"
      },
      "execution_count": null,
      "outputs": [
        {
          "output_type": "stream",
          "name": "stdout",
          "text": [
            "1\n",
            "2\n"
          ]
        }
      ]
    },
    {
      "cell_type": "markdown",
      "source": [
        "**Exemplo**: Total a pagar de um produto."
      ],
      "metadata": {
        "id": "St3NZE8cv2v5"
      }
    },
    {
      "cell_type": "code",
      "source": [
        "# Quanto temos que pagar por uma quantidade de intens?\n",
        "preco = 24.31\n",
        "qtd = 0.557\n",
        "\n",
        "# Fazemos uma nova variiável que vai receber a multiplicação\n",
        "total_a_pagar = preco * qtd\n",
        "# imprimir o resultado\n",
        "print(f'Total a ser pago: R$ {total_a_pagar:.2f}')"
      ],
      "metadata": {
        "colab": {
          "base_uri": "https://localhost:8080/"
        },
        "id": "ZGtV2Fwiv3fU",
        "outputId": "7e959f0b-a223-4bba-c81a-74a0a373c2c4"
      },
      "execution_count": null,
      "outputs": [
        {
          "output_type": "stream",
          "name": "stdout",
          "text": [
            "Total a ser pago: R$ 13.54\n"
          ]
        }
      ]
    },
    {
      "cell_type": "code",
      "source": [
        "a = 3\n",
        "b = 2\n",
        "\n",
        "c = a / b\n",
        "print(c)\n",
        "print(type(c))\n",
        "\n",
        "d = a // b\n",
        "print(d)\n",
        "print(type(d))"
      ],
      "metadata": {
        "colab": {
          "base_uri": "https://localhost:8080/"
        },
        "id": "lBmpIjY9wXxV",
        "outputId": "4f460425-eef4-47dd-dd9d-6b2f988f564c"
      },
      "execution_count": null,
      "outputs": [
        {
          "output_type": "stream",
          "name": "stdout",
          "text": [
            "1.5\n",
            "<class 'float'>\n",
            "1\n",
            "<class 'int'>\n"
          ]
        }
      ]
    },
    {
      "cell_type": "markdown",
      "source": [
        "### **3.4. Conversão**"
      ],
      "metadata": {
        "id": "EY1d50q1zD5W"
      }
    },
    {
      "cell_type": "markdown",
      "source": [
        "Podemos converter os tipos numéricos entre si utilizando o método nativo `int`, `float` e `complex`:"
      ],
      "metadata": {
        "id": "CoLGFxCgzJtX"
      }
    },
    {
      "cell_type": "code",
      "source": [
        "print(int(3.9))"
      ],
      "metadata": {
        "colab": {
          "base_uri": "https://localhost:8080/"
        },
        "id": "euUmPV8zzExc",
        "outputId": "7d84f212-838b-4155-9c27-bd6215a81028"
      },
      "execution_count": null,
      "outputs": [
        {
          "output_type": "stream",
          "name": "stdout",
          "text": [
            "3\n"
          ]
        }
      ]
    },
    {
      "cell_type": "code",
      "source": [
        "print(float(10))"
      ],
      "metadata": {
        "colab": {
          "base_uri": "https://localhost:8080/"
        },
        "id": "FBkd8VhdzOJY",
        "outputId": "3a846354-97c1-44c4-94a6-634eae7aaa54"
      },
      "execution_count": null,
      "outputs": [
        {
          "output_type": "stream",
          "name": "stdout",
          "text": [
            "10.0\n"
          ]
        }
      ]
    },
    {
      "cell_type": "code",
      "source": [
        "print(complex(1))"
      ],
      "metadata": {
        "colab": {
          "base_uri": "https://localhost:8080/"
        },
        "id": "KPmHhCPFzQ-V",
        "outputId": "3cc91273-398c-4414-a2fa-674be2925f25"
      },
      "execution_count": null,
      "outputs": [
        {
          "output_type": "stream",
          "name": "stdout",
          "text": [
            "(1+0j)\n"
          ]
        }
      ]
    },
    {
      "cell_type": "markdown",
      "source": [
        "### **3.5. Revisitando a motivação**"
      ],
      "metadata": {
        "id": "ziqd3I6-zbQj"
      }
    },
    {
      "cell_type": "markdown",
      "source": [
        "| Dia   | Valor Total Vendas | Qtd Total Vendas | Ticket Medio |\n",
        "|-------|--------------------|------------------|-|\n",
        "| 19/01 | 153.98             | 3                |?|\n",
        "| 20/01 | 337.01             | 7                |?|\n",
        "| 23/01 | 295.33             | 5                |?|"
      ],
      "metadata": {
        "id": "_Gpd2zrhzfdt"
      }
    },
    {
      "cell_type": "markdown",
      "source": [
        "Ticket médio diário do dia 19/01."
      ],
      "metadata": {
        "id": "Nvjnms0szjBk"
      }
    },
    {
      "cell_type": "code",
      "source": [
        "svv = 153.98  # Soma do valor de vendas\n",
        "sqv = 3  # Soma da quantidade vendida\n",
        "\n",
        "tkm_19 = svv / sqv\n",
        "print(f'Tiket Médio: R${tkm:.2f}.')"
      ],
      "metadata": {
        "colab": {
          "base_uri": "https://localhost:8080/"
        },
        "id": "z0ZcIVKuzUnM",
        "outputId": "bd4e58aa-e5d8-49e2-ec67-64a92d0246ca"
      },
      "execution_count": null,
      "outputs": [
        {
          "output_type": "stream",
          "name": "stdout",
          "text": [
            "Tiket Médio: R$59.07.\n"
          ]
        }
      ]
    },
    {
      "cell_type": "markdown",
      "source": [
        "Ticket médio diário do dia 20/01."
      ],
      "metadata": {
        "id": "tgN3B5RY0Rkx"
      }
    },
    {
      "cell_type": "code",
      "source": [
        "svv = 337.01  # Soma do valor de vendas\n",
        "sqv = 7  # Soma da quantidade vendida\n",
        "\n",
        "tkm_20 = svv / sqv\n",
        "print(f'Tiket Médio: R${tkm:.2f}.')"
      ],
      "metadata": {
        "colab": {
          "base_uri": "https://localhost:8080/"
        },
        "id": "-DZxLAvfzZVD",
        "outputId": "f0a13cc9-0a21-4872-c8ed-2d1b3ae144c8"
      },
      "execution_count": null,
      "outputs": [
        {
          "output_type": "stream",
          "name": "stdout",
          "text": [
            "Tiket Médio: R$59.07.\n"
          ]
        }
      ]
    },
    {
      "cell_type": "markdown",
      "source": [
        "Ticket médio diário do dia 23/01."
      ],
      "metadata": {
        "id": "tKYq2VB60UrE"
      }
    },
    {
      "cell_type": "code",
      "source": [
        "svv = 295.33  # Soma do valor de vendas\n",
        "sqv = 5  # Soma da quantidade vendida\n",
        "\n",
        "tkm_23 = svv / sqv\n",
        "print(f'Tiket Médio: R${tkm:.2f}.')"
      ],
      "metadata": {
        "colab": {
          "base_uri": "https://localhost:8080/"
        },
        "id": "kH-zIjwH0W7g",
        "outputId": "bf2f02b5-a189-4325-8319-b03ddfd30ca0"
      },
      "execution_count": null,
      "outputs": [
        {
          "output_type": "stream",
          "name": "stdout",
          "text": [
            "Tiket Médio: R$59.07.\n"
          ]
        }
      ]
    },
    {
      "cell_type": "markdown",
      "source": [
        "Tiket Médio Geral"
      ],
      "metadata": {
        "id": "xCSqjHrT8yLU"
      }
    },
    {
      "cell_type": "code",
      "source": [
        "tkmg = (tkm_19 + tkm_20 + tkm_23) / 3\n",
        "print(f'Tiket Médio Geral é: R${tkmg:.2f}.')"
      ],
      "metadata": {
        "colab": {
          "base_uri": "https://localhost:8080/"
        },
        "id": "H3DKqGki8rc8",
        "outputId": "9107e30c-3f96-4b01-b6f6-30ac43f2b014"
      },
      "execution_count": null,
      "outputs": [
        {
          "output_type": "stream",
          "name": "stdout",
          "text": [
            "Tiket Médio Geral é: R$52.85.\n"
          ]
        }
      ]
    },
    {
      "cell_type": "markdown",
      "source": [
        "## 4\\. *Strings*"
      ],
      "metadata": {
        "id": "BJLPz7x09Sl6"
      }
    },
    {
      "cell_type": "markdown",
      "source": [
        "### **4.1. Motivação**"
      ],
      "metadata": {
        "id": "_mxS5x399WNb"
      }
    },
    {
      "cell_type": "markdown",
      "source": [
        "A empresa que você trabalha adquiriu uma *startup* de logística. Você precisa identificar todos endereços que são comum a ambas. Na sua empresa, você armazena a latitude e longitude dos endereços em duas variáveis `lat` e `lon`, já a *startup* adquirida em uma única variável `latlon`.\n"
      ],
      "metadata": {
        "id": "nyCVMcof9b9Z"
      }
    },
    {
      "cell_type": "code",
      "source": [
        "# sua empresa\n",
        "lat = '-22.005320'\n",
        "lon = '-47.891040'\n",
        "\n",
        "# startup adquirida\n",
        "latlon = '-22.005320;-47.891040'"
      ],
      "metadata": {
        "id": "YuS_jdbv9TbZ"
      },
      "execution_count": null,
      "outputs": []
    },
    {
      "cell_type": "markdown",
      "source": [
        "Como podemos normalizar a forma com que as latitudes e longitudes são armazenadas para possam ser comparadas?"
      ],
      "metadata": {
        "id": "hlrCLR5p-YZW"
      }
    },
    {
      "cell_type": "markdown",
      "source": [
        "### **4.2. Definição**"
      ],
      "metadata": {
        "id": "qeBCuu6U-lOA"
      }
    },
    {
      "cell_type": "markdown",
      "source": [
        "Armazenam **textos**:"
      ],
      "metadata": {
        "id": "fb3oW-DS-pXZ"
      }
    },
    {
      "cell_type": "markdown",
      "source": [
        "*   `c`, `EBAC`, `Jailson Carvalho, 35 anos` (texto)"
      ],
      "metadata": {
        "id": "FA5vkkdO-vxh"
      }
    },
    {
      "cell_type": "markdown",
      "source": [
        "São do tipo `str`:"
      ],
      "metadata": {
        "id": "_Dbj7Fiq-2F7"
      }
    },
    {
      "cell_type": "code",
      "source": [
        "nome_aula = 'Aula 04, Módulo 01, Strings'\n",
        "\n",
        "print(nome_aula)\n",
        "print(type(nome_aula))"
      ],
      "metadata": {
        "colab": {
          "base_uri": "https://localhost:8080/"
        },
        "id": "p2Ax0R1c-ZxG",
        "outputId": "aecf96e2-0b19-42d9-e935-76b7fdb0ba8a"
      },
      "execution_count": null,
      "outputs": [
        {
          "output_type": "stream",
          "name": "stdout",
          "text": [
            "Aula 04, Módulo 01, Strings\n",
            "<class 'str'>\n"
          ]
        }
      ]
    },
    {
      "cell_type": "code",
      "source": [
        "string_vazia = \"\"\n",
        "\n",
        "print(string_vazia)\n",
        "print(type(string_vazia))"
      ],
      "metadata": {
        "colab": {
          "base_uri": "https://localhost:8080/"
        },
        "id": "seqwQTN---lr",
        "outputId": "ecca3b0a-52cd-4645-c6b4-9eddb46db31b"
      },
      "execution_count": null,
      "outputs": [
        {
          "output_type": "stream",
          "name": "stdout",
          "text": [
            "\n",
            "<class 'str'>\n"
          ]
        }
      ]
    },
    {
      "cell_type": "markdown",
      "source": [
        "### **4.3. Operações**"
      ],
      "metadata": {
        "id": "sVC_hk1h_M-k"
      }
    },
    {
      "cell_type": "markdown",
      "source": [
        "As operações de variáveis do tipo *string* são:\n",
        "\n",
        "\n",
        "*   `+` (concatenação)."
      ],
      "metadata": {
        "id": "09GmCsT2_LWn"
      }
    },
    {
      "cell_type": "markdown",
      "source": [
        "**Exemplo:** Nome completo."
      ],
      "metadata": {
        "id": "UqywzCGT_Rdb"
      }
    },
    {
      "cell_type": "code",
      "source": [
        "nome = 'José Jailson'\n",
        "sobrenome = 'de Carvalho'\n",
        "\n",
        "# para juntar/concatenar as duas string\n",
        "apresentacao = 'Olá, meu nome é ' + nome + ' ' + sobrenome + '.'\n",
        "print(apresentacao)"
      ],
      "metadata": {
        "colab": {
          "base_uri": "https://localhost:8080/"
        },
        "id": "ViMzo4q2_CQD",
        "outputId": "3d66b425-6bfc-451c-d370-3800521a0ddd"
      },
      "execution_count": null,
      "outputs": [
        {
          "output_type": "stream",
          "name": "stdout",
          "text": [
            "Olá, meu nome é José Jailson de Carvalho.\n"
          ]
        }
      ]
    },
    {
      "cell_type": "markdown",
      "source": [
        "Uma outra forma de concatenar strings é utilizar operações de formatação:"
      ],
      "metadata": {
        "id": "gd5KE5cz_-l4"
      }
    },
    {
      "cell_type": "code",
      "source": [
        "nome = 'José Jailson'\n",
        "sobrenome = 'de Carvalho'\n",
        "\n",
        "# OUTRA FORMA para juntar/concatenar as duas string\n",
        "concatenacao = f'Olá, meu nome é {nome} {sobrenome}.'\n",
        "print(concatenacao)"
      ],
      "metadata": {
        "colab": {
          "base_uri": "https://localhost:8080/"
        },
        "id": "x8WRga2p_9nB",
        "outputId": "173f4bd8-ef35-4568-cab8-f8a9ac6a4f18"
      },
      "execution_count": null,
      "outputs": [
        {
          "output_type": "stream",
          "name": "stdout",
          "text": [
            "Olá, meu nome é José Jailson de Carvalho.\n"
          ]
        }
      ]
    },
    {
      "cell_type": "markdown",
      "source": [
        "Outra operação muito utilizada é a de fatiamento (*slicing*):"
      ],
      "metadata": {
        "id": "tWyWRVJFDmhr"
      }
    },
    {
      "cell_type": "markdown",
      "source": [
        "**Exemplo**: Informações de email."
      ],
      "metadata": {
        "id": "9Z_OfCB_Ds0k"
      }
    },
    {
      "cell_type": "code",
      "source": [
        "email = 'jailsoncarvalho@gmail.com'"
      ],
      "metadata": {
        "id": "6BIyQ9ykAXgx"
      },
      "execution_count": null,
      "outputs": []
    },
    {
      "cell_type": "code",
      "source": [
        "# vamos descobrir qual letra está na posição 0 e 11 do meu email\n",
        "print('0: ' + email[0])\n",
        "print('11: ' + email[11])"
      ],
      "metadata": {
        "colab": {
          "base_uri": "https://localhost:8080/"
        },
        "id": "py5VC7__EQy4",
        "outputId": "1a3a3d21-03e6-4d01-e706-001b392caf80"
      },
      "execution_count": null,
      "outputs": [
        {
          "output_type": "stream",
          "name": "stdout",
          "text": [
            "0: j\n",
            "11: a\n"
          ]
        }
      ]
    },
    {
      "cell_type": "code",
      "source": [
        "# Fazer o mesmo de trás para a frente\n",
        "print('- 1: ' + email[-1])\n",
        "print('- 2: ' + email[-2])"
      ],
      "metadata": {
        "id": "dPZ9rE7EFA7n",
        "outputId": "a5afbf72-49ee-434f-b874-0aafda6c2aa1",
        "colab": {
          "base_uri": "https://localhost:8080/"
        }
      },
      "execution_count": null,
      "outputs": [
        {
          "output_type": "stream",
          "name": "stdout",
          "text": [
            "- 1: m\n",
            "- 2: o\n"
          ]
        }
      ]
    },
    {
      "cell_type": "markdown",
      "source": [
        "Fatiamento por intervalo:"
      ],
      "metadata": {
        "id": "njJt2-KSFvRs"
      }
    },
    {
      "cell_type": "code",
      "source": [
        "email_usuario = email[0:15]\n",
        "print(email_usuario)"
      ],
      "metadata": {
        "id": "20d0WageGjpH",
        "outputId": "9d1ba981-9104-4a9d-eaa0-96a409592ed8",
        "colab": {
          "base_uri": "https://localhost:8080/"
        }
      },
      "execution_count": null,
      "outputs": [
        {
          "output_type": "stream",
          "name": "stdout",
          "text": [
            "jailsoncarvalho\n"
          ]
        }
      ]
    },
    {
      "cell_type": "code",
      "source": [
        "# passamos dois indices [0:12]\n",
        "email_provedor = email[15:27]\n",
        "print(email_provedor)"
      ],
      "metadata": {
        "id": "gRSdxdOIFZuj",
        "outputId": "96a9e210-e6ab-4876-94c2-86d053f20e2e",
        "colab": {
          "base_uri": "https://localhost:8080/"
        }
      },
      "execution_count": null,
      "outputs": [
        {
          "output_type": "stream",
          "name": "stdout",
          "text": [
            "@gmail.com\n"
          ]
        }
      ]
    },
    {
      "cell_type": "code",
      "source": [
        "# vou concatenar as duas extrações\n",
        "concatenacao = email_usuario + email_provedor\n",
        "print(f'E-mail: {concatenacao}')"
      ],
      "metadata": {
        "id": "ehQAhXoZGS1x",
        "outputId": "935a2ab9-63a6-4bf6-8114-685a32a1f946",
        "colab": {
          "base_uri": "https://localhost:8080/"
        }
      },
      "execution_count": null,
      "outputs": [
        {
          "output_type": "stream",
          "name": "stdout",
          "text": [
            "E-mail: jailsoncarvalho@gmail.com\n"
          ]
        }
      ]
    },
    {
      "cell_type": "markdown",
      "source": [
        "### **4.4. Métodos**"
      ],
      "metadata": {
        "id": "5ZN0NQ9eHgqh"
      }
    },
    {
      "cell_type": "markdown",
      "source": [
        "\n",
        "\n",
        "São métodos nativos do Python que nos ajudam a trabalhar no dia a dia com strings.\n"
      ],
      "metadata": {
        "id": "NQMos7djHlvf"
      }
    },
    {
      "cell_type": "code",
      "source": [
        "endereco = 'Avenida Paulista, 1811, São Paulo, São Paulo, Brasil.'"
      ],
      "metadata": {
        "id": "exlf6Xq7HHki"
      },
      "execution_count": null,
      "outputs": []
    },
    {
      "cell_type": "code",
      "source": [
        "# maiusculo: string.upper()\n",
        "print(endereco.upper())"
      ],
      "metadata": {
        "id": "l-svl69BH_Uv",
        "outputId": "143d5350-702e-4d82-c428-12ea3eaf4319",
        "colab": {
          "base_uri": "https://localhost:8080/"
        }
      },
      "execution_count": null,
      "outputs": [
        {
          "output_type": "stream",
          "name": "stdout",
          "text": [
            "AVENIDA PAULISTA, 1811, SÃO PAULO, SÃO PAULO, BRASIL.\n"
          ]
        }
      ]
    },
    {
      "cell_type": "code",
      "source": [
        "# posicao: string.find(substring)\n",
        "posicao = endereco.find('Brasil')\n",
        "print(posicao)"
      ],
      "metadata": {
        "id": "Tu6sHxaLIDOQ",
        "outputId": "66a515e6-70d7-4709-9d72-09dbbfeba9e4",
        "colab": {
          "base_uri": "https://localhost:8080/"
        }
      },
      "execution_count": null,
      "outputs": [
        {
          "output_type": "stream",
          "name": "stdout",
          "text": [
            "46\n"
          ]
        }
      ]
    },
    {
      "cell_type": "code",
      "source": [
        "# substituição: string.replace(antigo, novo)\n",
        "print(endereco.replace('Avenida', 'Av'))"
      ],
      "metadata": {
        "id": "omJQO703ID0J",
        "outputId": "a17de8ec-a950-4423-d061-4d562746178a",
        "colab": {
          "base_uri": "https://localhost:8080/"
        }
      },
      "execution_count": null,
      "outputs": [
        {
          "output_type": "stream",
          "name": "stdout",
          "text": [
            "Av Paulista, 1811, São Paulo, São Paulo, Brasil.\n"
          ]
        }
      ]
    },
    {
      "cell_type": "markdown",
      "source": [
        "### **4.5. Conversão**"
      ],
      "metadata": {
        "id": "JpSS4ZOhIRbN"
      }
    },
    {
      "cell_type": "markdown",
      "source": [
        "Podemos converter *strings* em tipos numéricos e vice-versa"
      ],
      "metadata": {
        "id": "-swORwXRIXii"
      }
    },
    {
      "cell_type": "code",
      "source": [
        "idade = 19\n",
        "print(idade)\n",
        "print(type(idade))\n",
        "\n",
        "# transfomando o número inteiro em um astring\n",
        "idade = str(idade)\n",
        "print(idade)\n",
        "print(type(idade))"
      ],
      "metadata": {
        "id": "KcBJR-SpIM6J",
        "outputId": "ee5c6793-f11a-4961-834b-4c88525fe00c",
        "colab": {
          "base_uri": "https://localhost:8080/"
        }
      },
      "execution_count": null,
      "outputs": [
        {
          "output_type": "stream",
          "name": "stdout",
          "text": [
            "19\n",
            "<class 'int'>\n",
            "19\n",
            "<class 'str'>\n"
          ]
        }
      ]
    },
    {
      "cell_type": "code",
      "source": [
        "faturamento = 'R$ 35 mi'\n",
        "print(faturamento)\n",
        "print(type(faturamento))\n",
        "\n",
        "faturamento = int(faturamento[3:5])\n",
        "print(faturamento)\n",
        "print(type(faturamento))"
      ],
      "metadata": {
        "id": "uZ0PzR5cJ7rq",
        "outputId": "af81d32c-2f97-4469-dacf-eea5c9dabebb",
        "colab": {
          "base_uri": "https://localhost:8080/"
        }
      },
      "execution_count": null,
      "outputs": [
        {
          "output_type": "stream",
          "name": "stdout",
          "text": [
            "R$ 35 mi\n",
            "<class 'str'>\n",
            "35\n",
            "<class 'int'>\n"
          ]
        }
      ]
    },
    {
      "cell_type": "markdown",
      "source": [
        "### **4.6. Revisitando a motivação**"
      ],
      "metadata": {
        "id": "cWdPLqJhKuuh"
      }
    },
    {
      "cell_type": "markdown",
      "source": [
        "Encontrando a posição do caracter `;` de divisão das *strings* de latitude e longitude da variável da startup:"
      ],
      "metadata": {
        "id": "nmZ2hQAXK0Cu"
      }
    },
    {
      "cell_type": "code",
      "source": [
        "posicao_char_divisao = latlon.find(';')\n",
        "print(posicao_char_divisao)"
      ],
      "metadata": {
        "id": "21VYk5zmKvsG",
        "outputId": "e88bdeaf-f123-4e7b-aa73-af895ef46aa7",
        "colab": {
          "base_uri": "https://localhost:8080/"
        }
      },
      "execution_count": null,
      "outputs": [
        {
          "output_type": "stream",
          "name": "stdout",
          "text": [
            "10\n"
          ]
        }
      ]
    },
    {
      "cell_type": "markdown",
      "source": [
        "Extraindo a latitude:"
      ],
      "metadata": {
        "id": "hyCZQootLy5N"
      }
    },
    {
      "cell_type": "code",
      "source": [
        "lat_startup = latlon[0:posicao_char_divisao]\n",
        "print(lat_startup)"
      ],
      "metadata": {
        "id": "xqTZfHPBK72C",
        "outputId": "30733f4b-762d-48ed-9a32-51edf80845a6",
        "colab": {
          "base_uri": "https://localhost:8080/"
        }
      },
      "execution_count": null,
      "outputs": [
        {
          "output_type": "stream",
          "name": "stdout",
          "text": [
            "-22.005320\n"
          ]
        }
      ]
    },
    {
      "cell_type": "markdown",
      "source": [
        "Extraindo a longitude:"
      ],
      "metadata": {
        "id": "VbtbxL_RMj8O"
      }
    },
    {
      "cell_type": "code",
      "source": [
        "#quando fazemo isso vamos até a última posição da str. len(latlon)]\n",
        "lon_startup = latlon[posicao_char_divisao+1:len(latlon)]\n",
        "print(lon_startup)"
      ],
      "metadata": {
        "id": "QXCeQHQvMY_x",
        "outputId": "95b47c2b-0077-47a1-fd5e-0b25562bc51c",
        "colab": {
          "base_uri": "https://localhost:8080/"
        }
      },
      "execution_count": null,
      "outputs": [
        {
          "output_type": "stream",
          "name": "stdout",
          "text": [
            "-47.891040\n"
          ]
        }
      ]
    },
    {
      "cell_type": "markdown",
      "source": [
        "## 5\\. Boleanos"
      ],
      "metadata": {
        "id": "B8ei3WmYlcNb"
      }
    },
    {
      "cell_type": "markdown",
      "source": [
        "### **5.1. Motivação**"
      ],
      "metadata": {
        "id": "KlNBUkZ4lgi_"
      }
    },
    {
      "cell_type": "markdown",
      "source": [
        "Em *websites* (redes sociais, *e-commerce*, corporativos, etc.) é comum o uso de sistemas de controle de acesso, o famoso *login*. Em geral, nestes sistemas um usuário fornece dois dados: `usuario` e `senha`:"
      ],
      "metadata": {
        "id": "IHkCz3RNllW4"
      }
    },
    {
      "cell_type": "code",
      "source": [
        "usuario = 'Jailson_Carvalho'\n",
        "senha = 'jailson058'"
      ],
      "metadata": {
        "id": "AeERWHnYlc4L"
      },
      "execution_count": 12,
      "outputs": []
    },
    {
      "cell_type": "markdown",
      "source": [
        "Do lado do servidor, o *backend* do *website* tem armazenado os dados de usuário e senha fornecidas pelo usuário no momento do cadastro: `usuario_cadastro` e `senha_cadastro`:"
      ],
      "metadata": {
        "id": "4fZOGZh8l5zT"
      }
    },
    {
      "cell_type": "code",
      "source": [
        "usuario_cadastro = 'Jailson_Carvalho'\n",
        "senha_cadastro = 'jailson058'"
      ],
      "metadata": {
        "id": "hkf5NSf6l092"
      },
      "execution_count": 13,
      "outputs": []
    },
    {
      "cell_type": "markdown",
      "source": [
        "Como comparamos se as *strings* (`usuario`, `usuario_cadastro`) e (`senha`,`senha_cadastro`) são iguais para conceder ou bloquear o acesso do usuário?"
      ],
      "metadata": {
        "id": "bRVYxdk2mQDw"
      }
    },
    {
      "cell_type": "markdown",
      "source": [
        "### **5.2. Definição**"
      ],
      "metadata": {
        "id": "rU0flHgTmVXU"
      }
    },
    {
      "cell_type": "markdown",
      "source": [
        "Armazenam **valores lógicos**:\n",
        "\n",
        "*   `True` (verdadeiro);\n",
        "*   `False` (falso)."
      ],
      "metadata": {
        "id": "ZAXZ1Jpomavo"
      }
    },
    {
      "cell_type": "code",
      "source": [
        "verdadeiro = True\n",
        "print(verdadeiro)"
      ],
      "metadata": {
        "colab": {
          "base_uri": "https://localhost:8080/"
        },
        "id": "urFTYMkumV8z",
        "outputId": "5c8b1d97-09c2-4c86-9d53-43c676c9ed62"
      },
      "execution_count": 2,
      "outputs": [
        {
          "output_type": "stream",
          "name": "stdout",
          "text": [
            "True\n"
          ]
        }
      ]
    },
    {
      "cell_type": "code",
      "source": [
        "falso = False\n",
        "print(falso)"
      ],
      "metadata": {
        "colab": {
          "base_uri": "https://localhost:8080/"
        },
        "id": "xtKE2GQNnB1S",
        "outputId": "86134208-3fef-4f06-e49d-a859638471db"
      },
      "execution_count": 3,
      "outputs": [
        {
          "output_type": "stream",
          "name": "stdout",
          "text": [
            "False\n"
          ]
        }
      ]
    },
    {
      "cell_type": "markdown",
      "source": [
        "São resultados de comparações lógicas. Os operadores de comparação lógica são:\n",
        "\n",
        "*   `>` (maior);\n",
        "*   `<` (menor);\n",
        "*   `==` (igual);\n",
        "*   `>=` (maior ou igual);\n",
        "*   `<=` (menor ou igual);\n",
        "*   `!=` (diferente)."
      ],
      "metadata": {
        "id": "bKsX0Ox6nPyM"
      }
    },
    {
      "cell_type": "markdown",
      "source": [
        "**Exemplo:** Caixa eletrônico"
      ],
      "metadata": {
        "id": "C28pH6HqnWC3"
      }
    },
    {
      "cell_type": "code",
      "source": [
        "saldo_em_conta = 200\n",
        "valor_do_saque = 100\n",
        "\n",
        "pode_executar_saque = saldo_em_conta >= valor_do_saque\n",
        "print(pode_executar_saque)"
      ],
      "metadata": {
        "colab": {
          "base_uri": "https://localhost:8080/"
        },
        "id": "AsHbtnFLnKJP",
        "outputId": "f8a16402-a452-4d7f-b708-1b11ef34e43f"
      },
      "execution_count": 5,
      "outputs": [
        {
          "output_type": "stream",
          "name": "stdout",
          "text": [
            "True\n"
          ]
        }
      ]
    },
    {
      "cell_type": "markdown",
      "source": [
        "**Exemplo:** Cartão de crédito"
      ],
      "metadata": {
        "id": "7Jivssicn2dd"
      }
    },
    {
      "cell_type": "code",
      "source": [
        "codigo_de_seguranca = '852'\n",
        "codigo_de_seguranca_cadastro = '010'\n",
        "\n",
        "pode_efetuar_pagamento = codigo_de_seguranca == codigo_de_seguranca_cadastro\n",
        "print(pode_efetuar_pagamento)"
      ],
      "metadata": {
        "colab": {
          "base_uri": "https://localhost:8080/"
        },
        "id": "3HD_gKdXnnYt",
        "outputId": "90a09f0e-186e-4905-a9f8-85f3eb5f5d5f"
      },
      "execution_count": 6,
      "outputs": [
        {
          "output_type": "stream",
          "name": "stdout",
          "text": [
            "False\n"
          ]
        }
      ]
    },
    {
      "cell_type": "markdown",
      "source": [
        "### **5.3. Operações**"
      ],
      "metadata": {
        "id": "lBvWxsLMoCZQ"
      }
    },
    {
      "cell_type": "markdown",
      "source": [
        "As operações de variáveis booleanas são:\n",
        "\n",
        "* `|` (operador ou)\n",
        "* `&` (operador e)\n",
        "* `not` (operador não)\n",
        "\n",
        "\n",
        "O conjunto de resultados de operações lógicas geralmente é resumido em uma tabela chamada \"tabela da verdade\":"
      ],
      "metadata": {
        "id": "uGtuLfYIoGQs"
      }
    },
    {
      "cell_type": "markdown",
      "source": [
        "| A        | B        | | | A OR B   | | A AND B  | | NOT A    |\n",
        "|----------|----------|-|-|----------|-|----------|-|----------|\n",
        "| **TRUE** | **TRUE** | | | **TRUE** | | **TRUE** | | FALSE    |\n",
        "| **TRUE** | FALSE    | | | **TRUE** | | FALSE    | | FALSE    |\n",
        "| FALSE    | FALSE    | | | FALSE    | | FALSE    | | **TRUE** |\n",
        "| FALSE    | **TRUE** | | | **TRUE** | | FALSE    | | **TRUE** |"
      ],
      "metadata": {
        "id": "DTn458nEoa9m"
      }
    },
    {
      "cell_type": "markdown",
      "source": [
        "**Exemplo**: Tabela da verdade do operador `|` (ou)."
      ],
      "metadata": {
        "id": "e0xsKwh0ogea"
      }
    },
    {
      "cell_type": "code",
      "source": [
        "print(True | True)\n",
        "print(True | False)\n",
        "print(False | False)\n",
        "print(False | True)"
      ],
      "metadata": {
        "colab": {
          "base_uri": "https://localhost:8080/"
        },
        "id": "24ou0gekn6F_",
        "outputId": "31dc7423-3d4d-457d-e9e0-d29d7341bc1c"
      },
      "execution_count": 7,
      "outputs": [
        {
          "output_type": "stream",
          "name": "stdout",
          "text": [
            "True\n",
            "True\n",
            "False\n",
            "True\n"
          ]
        }
      ]
    },
    {
      "cell_type": "markdown",
      "source": [
        "**Exemplo**: Tabela da verdade do operador `&` (e)."
      ],
      "metadata": {
        "id": "Te5trbtqosQs"
      }
    },
    {
      "cell_type": "code",
      "source": [
        "print(True & True)\n",
        "print(True & False)\n",
        "print(False & False)\n",
        "print(False & True)"
      ],
      "metadata": {
        "colab": {
          "base_uri": "https://localhost:8080/"
        },
        "id": "upm7txlbomN8",
        "outputId": "849ba4c8-9015-4e7b-f99e-5306d6d7e9f2"
      },
      "execution_count": 8,
      "outputs": [
        {
          "output_type": "stream",
          "name": "stdout",
          "text": [
            "True\n",
            "False\n",
            "False\n",
            "False\n"
          ]
        }
      ]
    },
    {
      "cell_type": "markdown",
      "source": [
        "**Exemplo**: Tabela da verdade do operador `not` (não)."
      ],
      "metadata": {
        "id": "10mQ9HIho0DE"
      }
    },
    {
      "cell_type": "code",
      "source": [
        "print(not True)\n",
        "print(not False)"
      ],
      "metadata": {
        "colab": {
          "base_uri": "https://localhost:8080/"
        },
        "id": "ShcDjXenoxfy",
        "outputId": "55e62e70-66ac-4a01-8ded-f4df92245ab7"
      },
      "execution_count": 9,
      "outputs": [
        {
          "output_type": "stream",
          "name": "stdout",
          "text": [
            "False\n",
            "True\n"
          ]
        }
      ]
    },
    {
      "cell_type": "markdown",
      "source": [
        "### **5.4. Conversão**"
      ],
      "metadata": {
        "id": "fyZmKQVWpOR2"
      }
    },
    {
      "cell_type": "markdown",
      "source": [
        "Podemos converter tipos numéricos e *strings* para booleanos através do método nativo `bool`:"
      ],
      "metadata": {
        "id": "Xajf3wzfpRfs"
      }
    },
    {
      "cell_type": "code",
      "source": [
        "idade = 19\n",
        "tipo_sangue = 'O-'\n",
        "filhos = 0\n",
        "telefone_fixo = None\n",
        "telefone_fixo = ''\n",
        "\n",
        "print(bool(idade))\n",
        "print(bool(tipo_sangue))\n",
        "print(bool(filhos))\n",
        "print(bool(telefone_fixo))\n",
        "print(bool(telefone_fixo))"
      ],
      "metadata": {
        "colab": {
          "base_uri": "https://localhost:8080/"
        },
        "id": "hsTr54h_o_eH",
        "outputId": "c0a6e57a-fa4d-46cc-e8d0-6dcc8a231a43"
      },
      "execution_count": 10,
      "outputs": [
        {
          "output_type": "stream",
          "name": "stdout",
          "text": [
            "True\n",
            "True\n",
            "False\n",
            "False\n",
            "False\n"
          ]
        }
      ]
    },
    {
      "cell_type": "markdown",
      "source": [
        "### **5.5. Revisitando a motivação**"
      ],
      "metadata": {
        "id": "Jc5zWLQrpaPd"
      }
    },
    {
      "cell_type": "markdown",
      "source": [
        "Compara se os dados fornecidos pelo usuário são iguais aos dados do cadastro:"
      ],
      "metadata": {
        "id": "l6fC2KmYpef6"
      }
    },
    {
      "cell_type": "code",
      "source": [
        "usuario_igual = usuario == usuario_cadastro\n",
        "senha_igual = senha == senha_cadastro\n",
        "\n",
        "print(usuario_igual)\n",
        "print(senha_igual)"
      ],
      "metadata": {
        "colab": {
          "base_uri": "https://localhost:8080/"
        },
        "id": "V-lvxssopVXo",
        "outputId": "57b6f3c4-7981-4659-ff2e-e290f4589c18"
      },
      "execution_count": 14,
      "outputs": [
        {
          "output_type": "stream",
          "name": "stdout",
          "text": [
            "True\n",
            "True\n"
          ]
        }
      ]
    },
    {
      "cell_type": "markdown",
      "source": [
        "Decide se concede o acesso:"
      ],
      "metadata": {
        "id": "oEsmeYMZppb2"
      }
    },
    {
      "cell_type": "code",
      "source": [
        "conceder_acesso = usuario_igual & senha_igual\n",
        "print(conceder_acesso)"
      ],
      "metadata": {
        "colab": {
          "base_uri": "https://localhost:8080/"
        },
        "id": "w4TMDgGzpiK0",
        "outputId": "76f31a66-3433-4f27-922e-3699dfdf8e0c"
      },
      "execution_count": 15,
      "outputs": [
        {
          "output_type": "stream",
          "name": "stdout",
          "text": [
            "True\n"
          ]
        }
      ]
    },
    {
      "cell_type": "code",
      "source": [],
      "metadata": {
        "id": "FNjp0PlHptCC"
      },
      "execution_count": null,
      "outputs": []
    }
  ]
}